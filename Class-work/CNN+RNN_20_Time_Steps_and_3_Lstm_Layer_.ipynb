{
  "nbformat": 4,
  "nbformat_minor": 0,
  "metadata": {
    "colab": {
      "name": "CNN+RNN_20 Time Steps and 3 Lstm Layer .ipynb",
      "provenance": [],
      "collapsed_sections": [],
      "toc_visible": true
    },
    "kernelspec": {
      "name": "python3",
      "display_name": "Python 3"
    }
  },
  "cells": [
    {
      "cell_type": "markdown",
      "metadata": {
        "id": "xpAuMVCwfWs8",
        "colab_type": "text"
      },
      "source": [
        "# Recurrent Neural Network"
      ]
    },
    {
      "cell_type": "markdown",
      "metadata": {
        "id": "nxJfRe4bfYVA",
        "colab_type": "text"
      },
      "source": [
        "## Part 1 - Data Preprocessing"
      ]
    },
    {
      "cell_type": "markdown",
      "metadata": {
        "id": "ir9zwETrfbrp",
        "colab_type": "text"
      },
      "source": [
        "### Importing the libraries"
      ]
    },
    {
      "cell_type": "code",
      "metadata": {
        "id": "ZT1f24vHffuf",
        "colab_type": "code",
        "colab": {}
      },
      "source": [
        "import numpy as np\n",
        "import matplotlib.pyplot as plt\n",
        "import pandas as pd"
      ],
      "execution_count": 42,
      "outputs": []
    },
    {
      "cell_type": "markdown",
      "metadata": {
        "id": "nQ47JAxrgmaL",
        "colab_type": "text"
      },
      "source": [
        "### Importing the training set"
      ]
    },
    {
      "cell_type": "code",
      "metadata": {
        "id": "1xiv3pJOgqY3",
        "colab_type": "code",
        "colab": {}
      },
      "source": [
        "dataset_train = pd.read_csv('/content/Google_Stock_Price_Train.csv')\n",
        "training_set = dataset_train.iloc[:, 1:2].values\n"
      ],
      "execution_count": 43,
      "outputs": []
    },
    {
      "cell_type": "markdown",
      "metadata": {
        "id": "HT8_2UJegtG5",
        "colab_type": "text"
      },
      "source": [
        "### Feature Scaling"
      ]
    },
    {
      "cell_type": "code",
      "metadata": {
        "id": "OTrF2kR7gx9x",
        "colab_type": "code",
        "colab": {
          "base_uri": "https://localhost:8080/",
          "height": 134
        },
        "outputId": "137f64ae-4663-4a86-ec2e-dc4228bfd9a0"
      },
      "source": [
        "from sklearn.preprocessing import MinMaxScaler\n",
        "sc = MinMaxScaler(feature_range = (0, 1))\n",
        "training_set_scaled = sc.fit_transform(training_set)\n",
        "print(training_set_scaled)"
      ],
      "execution_count": 44,
      "outputs": [
        {
          "output_type": "stream",
          "text": [
            "[[0.08581368]\n",
            " [0.09701243]\n",
            " [0.09433366]\n",
            " ...\n",
            " [0.95725128]\n",
            " [0.93796041]\n",
            " [0.93688146]]\n"
          ],
          "name": "stdout"
        }
      ]
    },
    {
      "cell_type": "markdown",
      "metadata": {
        "id": "JyYgYocqhNUg",
        "colab_type": "text"
      },
      "source": [
        "### Creating a data structure with 60 timesteps and 1 output"
      ]
    },
    {
      "cell_type": "code",
      "metadata": {
        "id": "iofU21B0i6ST",
        "colab_type": "code",
        "colab": {
          "base_uri": "https://localhost:8080/",
          "height": 50
        },
        "outputId": "e37a6d85-d864-4b0b-8d48-28d5d42c6c14"
      },
      "source": [
        "X_train = []\n",
        "y_train = []\n",
        "for i in range(20, 1258):\n",
        "    X_train.append(training_set_scaled[i-20:i, 0])\n",
        "    y_train.append(training_set_scaled[i, 0])\n",
        "X_train, y_train = np.array(X_train), np.array(y_train)\n",
        "print(X_train.shape)\n",
        "print(y_train.shape)"
      ],
      "execution_count": 45,
      "outputs": [
        {
          "output_type": "stream",
          "text": [
            "(1238, 20)\n",
            "(1238,)\n"
          ],
          "name": "stdout"
        }
      ]
    },
    {
      "cell_type": "markdown",
      "metadata": {
        "id": "D8yaN7Zvi95l",
        "colab_type": "text"
      },
      "source": [
        "### Reshaping"
      ]
    },
    {
      "cell_type": "code",
      "metadata": {
        "id": "FOXqJHmNjBkz",
        "colab_type": "code",
        "colab": {
          "base_uri": "https://localhost:8080/",
          "height": 34
        },
        "outputId": "586c2fd4-db93-45d9-e768-0e6348efbe4a"
      },
      "source": [
        "X_train = np.reshape(X_train, (X_train.shape[0], X_train.shape[1], 1))\n",
        "print(X_train.shape)"
      ],
      "execution_count": 46,
      "outputs": [
        {
          "output_type": "stream",
          "text": [
            "(1238, 20, 1)\n"
          ],
          "name": "stdout"
        }
      ]
    },
    {
      "cell_type": "markdown",
      "metadata": {
        "id": "ZRRSOJeVjEWV",
        "colab_type": "text"
      },
      "source": [
        "## Part 2 - Building and Training the RNN"
      ]
    },
    {
      "cell_type": "markdown",
      "metadata": {
        "id": "k4XV88JMjHXG",
        "colab_type": "text"
      },
      "source": [
        "### Importing the Keras libraries and packages"
      ]
    },
    {
      "cell_type": "code",
      "metadata": {
        "id": "9JRnqsxEjKsD",
        "colab_type": "code",
        "colab": {}
      },
      "source": [
        "from keras.models import Sequential\n",
        "from keras.layers import Dense\n",
        "from keras.layers import LSTM\n",
        "from keras.layers import Dropout"
      ],
      "execution_count": 47,
      "outputs": []
    },
    {
      "cell_type": "markdown",
      "metadata": {
        "id": "FEIE-1s9jNzC",
        "colab_type": "text"
      },
      "source": [
        "### Initialising the RNN"
      ]
    },
    {
      "cell_type": "code",
      "metadata": {
        "id": "1338dJ0UjRKH",
        "colab_type": "code",
        "colab": {}
      },
      "source": [
        "regressor = Sequential()"
      ],
      "execution_count": 48,
      "outputs": []
    },
    {
      "cell_type": "markdown",
      "metadata": {
        "id": "62eg1OPGjT8z",
        "colab_type": "text"
      },
      "source": [
        "### Adding the first LSTM layer and some Dropout regularisation"
      ]
    },
    {
      "cell_type": "code",
      "metadata": {
        "id": "2hIinyXUjbVU",
        "colab_type": "code",
        "colab": {}
      },
      "source": [
        "regressor.add(LSTM(units = 50, return_sequences = True, input_shape = (X_train.shape[1], 1)))\n",
        "regressor.add(Dropout(0.2))"
      ],
      "execution_count": 49,
      "outputs": []
    },
    {
      "cell_type": "markdown",
      "metadata": {
        "id": "3XBIYLyOjlMx",
        "colab_type": "text"
      },
      "source": [
        "### Adding a second LSTM layer and some Dropout regularisation"
      ]
    },
    {
      "cell_type": "code",
      "metadata": {
        "id": "UG7nrVaSjuZ2",
        "colab_type": "code",
        "colab": {}
      },
      "source": [
        "regressor.add(LSTM(units = 50, return_sequences = True))\n",
        "regressor.add(Dropout(0.2))"
      ],
      "execution_count": 50,
      "outputs": []
    },
    {
      "cell_type": "markdown",
      "metadata": {
        "id": "Ey3fHVnGj1cu",
        "colab_type": "text"
      },
      "source": [
        "### Adding a third LSTM layer and some Dropout regularisation"
      ]
    },
    {
      "cell_type": "code",
      "metadata": {
        "id": "PuNi6PgFj7jO",
        "colab_type": "code",
        "colab": {}
      },
      "source": [
        "regressor.add(LSTM(units = 50))\n",
        "regressor.add(Dropout(0.2))"
      ],
      "execution_count": 51,
      "outputs": []
    },
    {
      "cell_type": "markdown",
      "metadata": {
        "id": "9ABI6rOIkHhk",
        "colab_type": "text"
      },
      "source": [
        "### Adding the output layer"
      ]
    },
    {
      "cell_type": "code",
      "metadata": {
        "id": "aM6R1z4WkME8",
        "colab_type": "code",
        "colab": {}
      },
      "source": [
        "regressor.add(Dense(units = 1))"
      ],
      "execution_count": 52,
      "outputs": []
    },
    {
      "cell_type": "markdown",
      "metadata": {
        "id": "zLx4K7uUkPSh",
        "colab_type": "text"
      },
      "source": [
        "### Compiling the RNN"
      ]
    },
    {
      "cell_type": "code",
      "metadata": {
        "id": "XTrhVN-tkbko",
        "colab_type": "code",
        "colab": {}
      },
      "source": [
        "regressor.compile(optimizer = 'adam', loss = 'mean_squared_error')"
      ],
      "execution_count": 53,
      "outputs": []
    },
    {
      "cell_type": "markdown",
      "metadata": {
        "id": "-mPhwKGkkebi",
        "colab_type": "text"
      },
      "source": [
        "### Fitting the RNN to the Training set"
      ]
    },
    {
      "cell_type": "code",
      "metadata": {
        "id": "I06Nkrz5kkb-",
        "colab_type": "code",
        "colab": {
          "base_uri": "https://localhost:8080/",
          "height": 1000
        },
        "outputId": "4b57bf91-863d-4aef-b8f9-f10386833ef9"
      },
      "source": [
        "regressor.fit(X_train, y_train, epochs = 100, batch_size = 32)"
      ],
      "execution_count": 54,
      "outputs": [
        {
          "output_type": "stream",
          "text": [
            "Epoch 1/100\n",
            "39/39 [==============================] - 1s 27ms/step - loss: 0.0406\n",
            "Epoch 2/100\n",
            "39/39 [==============================] - 1s 28ms/step - loss: 0.0052\n",
            "Epoch 3/100\n",
            "39/39 [==============================] - 1s 27ms/step - loss: 0.0045\n",
            "Epoch 4/100\n",
            "39/39 [==============================] - 1s 27ms/step - loss: 0.0046\n",
            "Epoch 5/100\n",
            "39/39 [==============================] - 1s 29ms/step - loss: 0.0039\n",
            "Epoch 6/100\n",
            "39/39 [==============================] - 1s 28ms/step - loss: 0.0043\n",
            "Epoch 7/100\n",
            "39/39 [==============================] - 1s 28ms/step - loss: 0.0040\n",
            "Epoch 8/100\n",
            "39/39 [==============================] - 1s 27ms/step - loss: 0.0041\n",
            "Epoch 9/100\n",
            "39/39 [==============================] - 1s 27ms/step - loss: 0.0035\n",
            "Epoch 10/100\n",
            "39/39 [==============================] - 1s 27ms/step - loss: 0.0042\n",
            "Epoch 11/100\n",
            "39/39 [==============================] - 1s 28ms/step - loss: 0.0040\n",
            "Epoch 12/100\n",
            "39/39 [==============================] - 1s 27ms/step - loss: 0.0035\n",
            "Epoch 13/100\n",
            "39/39 [==============================] - 1s 27ms/step - loss: 0.0038\n",
            "Epoch 14/100\n",
            "39/39 [==============================] - 1s 28ms/step - loss: 0.0037\n",
            "Epoch 15/100\n",
            "39/39 [==============================] - 1s 29ms/step - loss: 0.0035\n",
            "Epoch 16/100\n",
            "39/39 [==============================] - 1s 27ms/step - loss: 0.0038\n",
            "Epoch 17/100\n",
            "39/39 [==============================] - 1s 29ms/step - loss: 0.0034\n",
            "Epoch 18/100\n",
            "39/39 [==============================] - 1s 27ms/step - loss: 0.0029\n",
            "Epoch 19/100\n",
            "39/39 [==============================] - 1s 29ms/step - loss: 0.0031\n",
            "Epoch 20/100\n",
            "39/39 [==============================] - 1s 28ms/step - loss: 0.0030\n",
            "Epoch 21/100\n",
            "39/39 [==============================] - 1s 28ms/step - loss: 0.0028\n",
            "Epoch 22/100\n",
            "39/39 [==============================] - 1s 28ms/step - loss: 0.0031\n",
            "Epoch 23/100\n",
            "39/39 [==============================] - 1s 27ms/step - loss: 0.0028\n",
            "Epoch 24/100\n",
            "39/39 [==============================] - 1s 27ms/step - loss: 0.0028\n",
            "Epoch 25/100\n",
            "39/39 [==============================] - 1s 27ms/step - loss: 0.0030\n",
            "Epoch 26/100\n",
            "39/39 [==============================] - 1s 27ms/step - loss: 0.0028\n",
            "Epoch 27/100\n",
            "39/39 [==============================] - 1s 28ms/step - loss: 0.0028\n",
            "Epoch 28/100\n",
            "39/39 [==============================] - 1s 27ms/step - loss: 0.0029\n",
            "Epoch 29/100\n",
            "39/39 [==============================] - 1s 27ms/step - loss: 0.0032\n",
            "Epoch 30/100\n",
            "39/39 [==============================] - 1s 28ms/step - loss: 0.0027\n",
            "Epoch 31/100\n",
            "39/39 [==============================] - 1s 27ms/step - loss: 0.0026\n",
            "Epoch 32/100\n",
            "39/39 [==============================] - 1s 27ms/step - loss: 0.0028\n",
            "Epoch 33/100\n",
            "39/39 [==============================] - 1s 27ms/step - loss: 0.0035\n",
            "Epoch 34/100\n",
            "39/39 [==============================] - 1s 27ms/step - loss: 0.0029\n",
            "Epoch 35/100\n",
            "39/39 [==============================] - 1s 27ms/step - loss: 0.0025\n",
            "Epoch 36/100\n",
            "39/39 [==============================] - 1s 27ms/step - loss: 0.0025\n",
            "Epoch 37/100\n",
            "39/39 [==============================] - 1s 27ms/step - loss: 0.0023\n",
            "Epoch 38/100\n",
            "39/39 [==============================] - 1s 27ms/step - loss: 0.0025\n",
            "Epoch 39/100\n",
            "39/39 [==============================] - 1s 27ms/step - loss: 0.0023\n",
            "Epoch 40/100\n",
            "39/39 [==============================] - 1s 28ms/step - loss: 0.0024\n",
            "Epoch 41/100\n",
            "39/39 [==============================] - 1s 28ms/step - loss: 0.0022\n",
            "Epoch 42/100\n",
            "39/39 [==============================] - 1s 27ms/step - loss: 0.0023\n",
            "Epoch 43/100\n",
            "39/39 [==============================] - 1s 27ms/step - loss: 0.0023\n",
            "Epoch 44/100\n",
            "39/39 [==============================] - 1s 27ms/step - loss: 0.0022\n",
            "Epoch 45/100\n",
            "39/39 [==============================] - 1s 27ms/step - loss: 0.0020\n",
            "Epoch 46/100\n",
            "39/39 [==============================] - 1s 27ms/step - loss: 0.0024\n",
            "Epoch 47/100\n",
            "39/39 [==============================] - 1s 27ms/step - loss: 0.0019\n",
            "Epoch 48/100\n",
            "39/39 [==============================] - 1s 27ms/step - loss: 0.0025\n",
            "Epoch 49/100\n",
            "39/39 [==============================] - 1s 27ms/step - loss: 0.0022\n",
            "Epoch 50/100\n",
            "39/39 [==============================] - 1s 28ms/step - loss: 0.0023\n",
            "Epoch 51/100\n",
            "39/39 [==============================] - 1s 27ms/step - loss: 0.0020\n",
            "Epoch 52/100\n",
            "39/39 [==============================] - 1s 27ms/step - loss: 0.0023\n",
            "Epoch 53/100\n",
            "39/39 [==============================] - 1s 27ms/step - loss: 0.0021\n",
            "Epoch 54/100\n",
            "39/39 [==============================] - 1s 29ms/step - loss: 0.0019\n",
            "Epoch 55/100\n",
            "39/39 [==============================] - 1s 28ms/step - loss: 0.0019\n",
            "Epoch 56/100\n",
            "39/39 [==============================] - 1s 27ms/step - loss: 0.0021\n",
            "Epoch 57/100\n",
            "39/39 [==============================] - 1s 27ms/step - loss: 0.0019\n",
            "Epoch 58/100\n",
            "39/39 [==============================] - 1s 30ms/step - loss: 0.0018\n",
            "Epoch 59/100\n",
            "39/39 [==============================] - 1s 28ms/step - loss: 0.0019\n",
            "Epoch 60/100\n",
            "39/39 [==============================] - 1s 27ms/step - loss: 0.0018\n",
            "Epoch 61/100\n",
            "39/39 [==============================] - 1s 27ms/step - loss: 0.0019\n",
            "Epoch 62/100\n",
            "39/39 [==============================] - 1s 28ms/step - loss: 0.0018\n",
            "Epoch 63/100\n",
            "39/39 [==============================] - 1s 28ms/step - loss: 0.0018\n",
            "Epoch 64/100\n",
            "39/39 [==============================] - 1s 27ms/step - loss: 0.0020\n",
            "Epoch 65/100\n",
            "39/39 [==============================] - 1s 28ms/step - loss: 0.0021\n",
            "Epoch 66/100\n",
            "39/39 [==============================] - 1s 27ms/step - loss: 0.0017\n",
            "Epoch 67/100\n",
            "39/39 [==============================] - 1s 27ms/step - loss: 0.0016\n",
            "Epoch 68/100\n",
            "39/39 [==============================] - 1s 27ms/step - loss: 0.0016\n",
            "Epoch 69/100\n",
            "39/39 [==============================] - 1s 29ms/step - loss: 0.0017\n",
            "Epoch 70/100\n",
            "39/39 [==============================] - 1s 32ms/step - loss: 0.0015\n",
            "Epoch 71/100\n",
            "39/39 [==============================] - 1s 32ms/step - loss: 0.0016\n",
            "Epoch 72/100\n",
            "39/39 [==============================] - 1s 27ms/step - loss: 0.0017\n",
            "Epoch 73/100\n",
            "39/39 [==============================] - 1s 28ms/step - loss: 0.0018\n",
            "Epoch 74/100\n",
            "39/39 [==============================] - 1s 27ms/step - loss: 0.0017\n",
            "Epoch 75/100\n",
            "39/39 [==============================] - 1s 27ms/step - loss: 0.0015\n",
            "Epoch 76/100\n",
            "39/39 [==============================] - 1s 28ms/step - loss: 0.0016\n",
            "Epoch 77/100\n",
            "39/39 [==============================] - 1s 29ms/step - loss: 0.0014\n",
            "Epoch 78/100\n",
            "39/39 [==============================] - 1s 27ms/step - loss: 0.0015\n",
            "Epoch 79/100\n",
            "39/39 [==============================] - 1s 28ms/step - loss: 0.0017\n",
            "Epoch 80/100\n",
            "39/39 [==============================] - 1s 29ms/step - loss: 0.0015\n",
            "Epoch 81/100\n",
            "39/39 [==============================] - 1s 28ms/step - loss: 0.0015\n",
            "Epoch 82/100\n",
            "39/39 [==============================] - 1s 27ms/step - loss: 0.0016\n",
            "Epoch 83/100\n",
            "39/39 [==============================] - 1s 29ms/step - loss: 0.0015\n",
            "Epoch 84/100\n",
            "39/39 [==============================] - 1s 27ms/step - loss: 0.0015\n",
            "Epoch 85/100\n",
            "39/39 [==============================] - 1s 28ms/step - loss: 0.0012\n",
            "Epoch 86/100\n",
            "39/39 [==============================] - 1s 30ms/step - loss: 0.0013\n",
            "Epoch 87/100\n",
            "39/39 [==============================] - 1s 27ms/step - loss: 0.0014\n",
            "Epoch 88/100\n",
            "39/39 [==============================] - 1s 29ms/step - loss: 0.0014\n",
            "Epoch 89/100\n",
            "39/39 [==============================] - 1s 27ms/step - loss: 0.0014\n",
            "Epoch 90/100\n",
            "39/39 [==============================] - 1s 27ms/step - loss: 0.0013\n",
            "Epoch 91/100\n",
            "39/39 [==============================] - 1s 27ms/step - loss: 0.0014\n",
            "Epoch 92/100\n",
            "39/39 [==============================] - 1s 29ms/step - loss: 0.0013\n",
            "Epoch 93/100\n",
            "39/39 [==============================] - 1s 28ms/step - loss: 0.0013\n",
            "Epoch 94/100\n",
            "39/39 [==============================] - 1s 32ms/step - loss: 0.0013\n",
            "Epoch 95/100\n",
            "39/39 [==============================] - 1s 31ms/step - loss: 0.0014\n",
            "Epoch 96/100\n",
            "39/39 [==============================] - 1s 28ms/step - loss: 0.0014\n",
            "Epoch 97/100\n",
            "39/39 [==============================] - 1s 29ms/step - loss: 0.0014\n",
            "Epoch 98/100\n",
            "39/39 [==============================] - 1s 29ms/step - loss: 0.0014\n",
            "Epoch 99/100\n",
            "39/39 [==============================] - 1s 29ms/step - loss: 0.0012\n",
            "Epoch 100/100\n",
            "39/39 [==============================] - 1s 29ms/step - loss: 0.0015\n"
          ],
          "name": "stdout"
        },
        {
          "output_type": "execute_result",
          "data": {
            "text/plain": [
              "<tensorflow.python.keras.callbacks.History at 0x7f14f7f74668>"
            ]
          },
          "metadata": {
            "tags": []
          },
          "execution_count": 54
        }
      ]
    },
    {
      "cell_type": "markdown",
      "metadata": {
        "id": "4hRau_lIkrE8",
        "colab_type": "text"
      },
      "source": [
        "## Part 3 - Making the predictions and visualising the results"
      ]
    },
    {
      "cell_type": "markdown",
      "metadata": {
        "id": "SgJO6qEDksxD",
        "colab_type": "text"
      },
      "source": [
        "### Getting the real stock price of 2017"
      ]
    },
    {
      "cell_type": "code",
      "metadata": {
        "id": "FmBT2zqukxTz",
        "colab_type": "code",
        "colab": {}
      },
      "source": [
        "dataset_test = pd.read_csv('/content/Google_Stock_Price_Test.csv')\n",
        "real_stock_price = dataset_test.iloc[:, 1:2].values"
      ],
      "execution_count": 59,
      "outputs": []
    },
    {
      "cell_type": "markdown",
      "metadata": {
        "id": "GrvrLblxkz42",
        "colab_type": "text"
      },
      "source": [
        "### Getting the predicted stock price of 2017"
      ]
    },
    {
      "cell_type": "code",
      "metadata": {
        "id": "emikTvUpk3Ck",
        "colab_type": "code",
        "colab": {}
      },
      "source": [
        "dataset_total = pd.concat((dataset_train['Open'], dataset_test['Open']), axis = 0)\n",
        "inputs = dataset_total[len(dataset_total) - len(dataset_test) - 20:].values\n",
        "inputs = inputs.reshape(-1,1)\n",
        "inputs = sc.transform(inputs)\n",
        "X_test = []\n",
        "for i in range(20, 40):\n",
        "    X_test.append(inputs[i-20:i, 0])\n",
        "X_test = np.array(X_test)\n",
        "X_test = np.reshape(X_test, (X_test.shape[0], X_test.shape[1], 1))\n",
        "predicted_stock_price = regressor.predict(X_test)\n",
        "predicted_stock_price = sc.inverse_transform(predicted_stock_price)"
      ],
      "execution_count": 64,
      "outputs": []
    },
    {
      "cell_type": "markdown",
      "metadata": {
        "id": "iFTNs3YHk6FQ",
        "colab_type": "text"
      },
      "source": [
        "### Visualising the results"
      ]
    },
    {
      "cell_type": "code",
      "metadata": {
        "id": "8OUI8U49k9tH",
        "colab_type": "code",
        "colab": {
          "base_uri": "https://localhost:8080/",
          "height": 295
        },
        "outputId": "f239939e-4d8e-4ac7-d938-b9eb2f920f9c"
      },
      "source": [
        "plt.plot(real_stock_price, color = 'red', label = 'Real Google Stock Price')\n",
        "plt.plot(predicted_stock_price, color = 'blue', label = 'Predicted Google Stock Price')\n",
        "plt.title('Google Stock Price Prediction')\n",
        "plt.xlabel('Time')\n",
        "plt.ylabel('Google Stock Price')\n",
        "plt.legend()\n",
        "plt.show()"
      ],
      "execution_count": 65,
      "outputs": [
        {
          "output_type": "display_data",
          "data": {
            "image/png": "[encoded data removed]",
            "text/plain": [
              "<Figure size 432x288 with 1 Axes>"
            ]
          },
          "metadata": {
            "tags": [],
            "needs_background": "light"
          }
        }
      ]
    }
  ]
}